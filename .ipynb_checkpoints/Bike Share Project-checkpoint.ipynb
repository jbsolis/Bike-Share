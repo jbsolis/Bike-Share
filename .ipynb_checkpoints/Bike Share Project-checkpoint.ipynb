{
 "cells": [
  {
   "cell_type": "code",
   "execution_count": 55,
   "metadata": {
    "collapsed": false
   },
   "outputs": [],
   "source": [
    "import pandas as pd\n",
    "import numpy as np\n",
    "from datetime import datetime\n",
    "from sklearn.cross_validation import train_test_split\n",
    "from sklearn.linear_model import LinearRegression\n",
    "from sklearn.model_selection import train_test_split"
   ]
  },
  {
   "cell_type": "code",
   "execution_count": 56,
   "metadata": {
    "collapsed": false
   },
   "outputs": [],
   "source": [
    "data = pd.read_csv(\"train.csv\", header = 0)\n",
    "test_data = pd.read_csv(\"test.csv\", header = 0)"
   ]
  },
  {
   "cell_type": "code",
   "execution_count": 57,
   "metadata": {
    "collapsed": true
   },
   "outputs": [],
   "source": [
    "def add_daylight(df):\n",
    "    if df['month'] <= 3:\n",
    "        return 1\n",
    "    elif df['month'] >=10 :\n",
    "        return 4\n",
    "    elif df['month'] >= 4 & df['month'] <= 6:\n",
    "        return 2\n",
    "    else:\n",
    "        return 3"
   ]
  },
  {
   "cell_type": "code",
   "execution_count": 58,
   "metadata": {
    "collapsed": false
   },
   "outputs": [],
   "source": [
    "# Extract month, day, hour from date time\n",
    "def process_data(data, drop_list):\n",
    "    data['month'] = pd.DatetimeIndex(data.datetime).month\n",
    "    data['dayofweek'] = pd.DatetimeIndex(data.datetime).dayofweek\n",
    "    data['day'] = pd.DatetimeIndex(data.datetime).day\n",
    "    data['hour'] = pd.DatetimeIndex(data.datetime).hour\n",
    "    data['year'] = pd.DatetimeIndex(data.datetime).year\n",
    "    #data['quarter'] = data.apply(add_daylight, axis = 1)\n",
    "    data = data.drop(drop_list, axis = 1)\n",
    "    \n",
    "    return data"
   ]
  },
  {
   "cell_type": "code",
   "execution_count": 59,
   "metadata": {
    "collapsed": false
   },
   "outputs": [],
   "source": [
    "# Process data\n",
    "df = process_data(data,['datetime','registered','casual','temp'])\n",
    "test_df = process_data(test_data, ['datetime', 'temp'])"
   ]
  },
  {
   "cell_type": "code",
   "execution_count": 60,
   "metadata": {
    "collapsed": false
   },
   "outputs": [],
   "source": [
    "#convert to numpy.arrays\n",
    "labels = df['count'].values\n",
    "features = df.drop(['count'],axis = 1).values\n",
    "test = test_df.values"
   ]
  },
  {
   "cell_type": "code",
   "execution_count": 61,
   "metadata": {
    "collapsed": false
   },
   "outputs": [
    {
     "name": "stdout",
     "output_type": "stream",
     "text": [
      "RandomForestRegressor(bootstrap=True, criterion='mse', max_depth=None,\n",
      "           max_features=0.8, max_leaf_nodes=None, min_impurity_split=1e-07,\n",
      "           min_samples_leaf=1, min_samples_split=2,\n",
      "           min_weight_fraction_leaf=0.0, n_estimators=1000, n_jobs=-1,\n",
      "           oob_score=True, random_state=111, verbose=0, warm_start=False)\n",
      "0.994214546855\n"
     ]
    }
   ],
   "source": [
    "#for casual riders\n",
    "from sklearn.ensemble import RandomForestRegressor\n",
    "from sklearn.model_selection import GridSearchCV\n",
    "#from sklearn.tree import DecisionTreeRegressor\n",
    "#from sklearn.pipeline import Pipeline\n",
    "#from sklearn.decomposition import PCA\n",
    "#from sklearn.feature_selection import SelectKBest, f_regression, mutual_info_regression\n",
    "\n",
    "#skb = SelectKBest()\n",
    "#rfc = RandomForestRegressor(random_state=111)\n",
    "\n",
    "#pipeline = Pipeline(steps=[('skb',skb),('rfc',rfc)])\n",
    "\n",
    "params = {'n_estimators': [1000],\n",
    "         'max_features' : [0.8]}\n",
    "\n",
    "reg = GridSearchCV(RandomForestRegressor(oob_score = True, random_state = 111, n_jobs = -1), params, scoring = 'r2')\n",
    "\n",
    "reg.fit(features,labels)\n",
    "print reg.best_estimator_\n",
    "print reg.score(features, labels)"
   ]
  },
  {
   "cell_type": "code",
   "execution_count": 62,
   "metadata": {
    "collapsed": false
   },
   "outputs": [
    {
     "name": "stdout",
     "output_type": "stream",
     "text": [
      "0.957281368484\n"
     ]
    }
   ],
   "source": [
    "#from sklearn.metrics import roc_auc_score\n",
    "reg = RandomForestRegressor(n_estimators = 1000, max_features = .8,\n",
    "                            oob_score = True, random_state = 111, n_jobs = -1)\n",
    "reg.fit(features,labels)\n",
    "print reg.oob_score_"
   ]
  },
  {
   "cell_type": "code",
   "execution_count": 63,
   "metadata": {
    "collapsed": false
   },
   "outputs": [
    {
     "name": "stdout",
     "output_type": "stream",
     "text": [
      "Axes(0.125,0.125;0.775x0.775)\n"
     ]
    },
    {
     "data": {
      "image/png": "[encoded data removed]",
      "text/plain": [
       "<matplotlib.figure.Figure at 0x234e29b0>"
      ]
     },
     "metadata": {},
     "output_type": "display_data"
    }
   ],
   "source": [
    "%matplotlib inline\n",
    "feature_importance = pd.Series(reg.feature_importances_)\n",
    "print feature_importance.plot(kind = 'barh', figsize = (7,6))"
   ]
  },
  {
   "cell_type": "code",
   "execution_count": 189,
   "metadata": {
    "collapsed": false
   },
   "outputs": [],
   "source": [
    "pred = reg.predict(test)"
   ]
  },
  {
   "cell_type": "code",
   "execution_count": 190,
   "metadata": {
    "collapsed": false
   },
   "outputs": [],
   "source": [
    "import numpy\n",
    "numpy.savetxt(\"bike_predict.csv\", pred, delimiter=\",\")"
   ]
  },
  {
   "cell_type": "code",
   "execution_count": 64,
   "metadata": {
    "collapsed": false
   },
   "outputs": [
    {
     "name": "stdout",
     "output_type": "stream",
     "text": [
      "   season  holiday  workingday  weather   atemp  humidity  windspeed  count  \\\n",
      "0       1        0           0        1  14.395        81        0.0     16   \n",
      "\n",
      "   month  dayofweek  day  hour  year  \n",
      "0      1          5    1     0  2011  \n"
     ]
    }
   ],
   "source": [
    "print df.head(1)"
   ]
  },
  {
   "cell_type": "code",
   "execution_count": 24,
   "metadata": {
    "collapsed": false
   },
   "outputs": [
    {
     "name": "stdout",
     "output_type": "stream",
     "text": [
      "0.866422108528\n",
      "0.857014630065\n"
     ]
    }
   ],
   "source": [
    "from sklearn.ensemble import GradientBoostingRegressor\n",
    "#params = {'min_samples_split' : range(10,100)}\n",
    "\n",
    "#reg = GridSearchCV(DecisionTreeRegressor(), params, scoring = 'r2')\n",
    "reg = GradientBoostingRegressor(min_samples_split=10)\n",
    "reg.fit(features_train,labels_train)\n",
    "#print reg.best_estimator_\n",
    "print reg.score(features_train, labels_train)\n",
    "print reg.score(features_test, labels_test)"
   ]
  },
  {
   "cell_type": "code",
   "execution_count": null,
   "metadata": {
    "collapsed": true
   },
   "outputs": [],
   "source": []
  }
 ],
 "metadata": {
  "anaconda-cloud": {},
  "kernelspec": {
   "display_name": "Python [default]",
   "language": "python",
   "name": "python2"
  },
  "language_info": {
   "codemirror_mode": {
    "name": "ipython",
    "version": 2
   },
   "file_extension": ".py",
   "mimetype": "text/x-python",
   "name": "python",
   "nbconvert_exporter": "python",
   "pygments_lexer": "ipython2",
   "version": "2.7.12"
  }
 },
 "nbformat": 4,
 "nbformat_minor": 1
}

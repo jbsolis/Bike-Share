{
 "cells": [
  {
   "cell_type": "code",
   "execution_count": 1,
   "metadata": {
    "collapsed": false
   },
   "outputs": [
    {
     "name": "stderr",
     "output_type": "stream",
     "text": [
      "C:\\Users\\Jeffrey\\Anaconda2\\lib\\site-packages\\sklearn\\cross_validation.py:44: DeprecationWarning: This module was deprecated in version 0.18 in favor of the model_selection module into which all the refactored classes and functions are moved. Also note that the interface of the new CV iterators are different from that of this module. This module will be removed in 0.20.\n",
      "  \"This module will be removed in 0.20.\", DeprecationWarning)\n"
     ]
    }
   ],
   "source": [
    "import pandas as pd\n",
    "import numpy as np\n",
    "from datetime import datetime\n",
    "from sklearn.cross_validation import train_test_split\n",
    "from sklearn.ensemble import RandomForestRegressor\n",
    "from sklearn.model_selection import GridSearchCV"
   ]
  },
  {
   "cell_type": "code",
   "execution_count": 2,
   "metadata": {
    "collapsed": false
   },
   "outputs": [],
   "source": [
    "data = pd.read_csv(\"train.csv\", header = 0)\n",
    "test_data = pd.read_csv(\"test.csv\", header = 0)"
   ]
  },
  {
   "cell_type": "code",
   "execution_count": 3,
   "metadata": {
    "collapsed": true
   },
   "outputs": [],
   "source": [
    "#how competition is scored\n",
    "def get_rmsle(pred, actual):\n",
    "    diff = np.log(pred + 1) - np.log(actual + 1)\n",
    "    mean_error = np.square(diff).mean()\n",
    "    return np.sqrt(mean_error)"
   ]
  },
  {
   "cell_type": "code",
   "execution_count": 4,
   "metadata": {
    "collapsed": false
   },
   "outputs": [],
   "source": [
    "# Extract year, month, day, hour from date time\n",
    "def engineer_data(data):\n",
    "    data['month'] = pd.DatetimeIndex(data.datetime).month\n",
    "    data['dayofweek'] = pd.DatetimeIndex(data.datetime).dayofweek\n",
    "    data['day'] = pd.DatetimeIndex(data.datetime).day\n",
    "    data['hour'] = pd.DatetimeIndex(data.datetime).hour\n",
    "    data['year'] = pd.DatetimeIndex(data.datetime).year    \n",
    "    return data"
   ]
  },
  {
   "cell_type": "code",
   "execution_count": 5,
   "metadata": {
    "collapsed": true
   },
   "outputs": [],
   "source": [
    "#seperate casual and registered data from main features\n",
    "def process_data(data, features):\n",
    "    features = data[features].values\n",
    "    labels_c = np.log(data['casual'].values + 1)\n",
    "    labels_r = np.log(data['registered'].values + 1)\n",
    "    return features, labels_c, labels_r"
   ]
  },
  {
   "cell_type": "code",
   "execution_count": 6,
   "metadata": {
    "collapsed": false
   },
   "outputs": [],
   "source": [
    "# Custom split is similar to how training and test data are seperated\n",
    "def custom_split(data):\n",
    "    train = data[data['day'] <= 15]\n",
    "    test = data[data['day'] > 15]\n",
    "    return train, test"
   ]
  },
  {
   "cell_type": "code",
   "execution_count": 7,
   "metadata": {
    "collapsed": false
   },
   "outputs": [
    {
     "name": "stdout",
     "output_type": "stream",
     "text": [
      "RandomForestRegressor(bootstrap=True, criterion='mse', max_depth=None,\n",
      "           max_features=0.8, max_leaf_nodes=None, min_impurity_split=1e-07,\n",
      "           min_samples_leaf=1, min_samples_split=11,\n",
      "           min_weight_fraction_leaf=0.0, n_estimators=1000, n_jobs=-1,\n",
      "           oob_score=False, random_state=111, verbose=0, warm_start=False)\n",
      " \n"
     ]
    },
    {
     "data": {
      "text/plain": [
       "0.33002074861715619"
      ]
     },
     "execution_count": 7,
     "metadata": {},
     "output_type": "execute_result"
    }
   ],
   "source": [
    "#tune algorithm\n",
    "df = engineer_data(data)\n",
    "features = ['weather', 'holiday','atemp', 'temp','humidity', 'windspeed',\n",
    "            'workingday', 'season', 'hour','year','month',\n",
    "            'dayofweek']\n",
    "\n",
    "train, test = custom_split(df)\n",
    "features_train, labels_c_train, labels_r_train = process_data(train,features)\n",
    "features_test, labels_c_test, labels_r_test = process_data(test,features)\n",
    "\n",
    "params = {'n_estimators': [1000],\n",
    "         'max_features' : [.8],\n",
    "         'min_samples_split' : [11]}\n",
    "    \n",
    "reg = GridSearchCV(RandomForestRegressor(random_state = 111, n_jobs = -1), params)\n",
    "\n",
    "reg_c = reg.fit(features_train, labels_c_train)\n",
    "pred_c = np.exp(reg.predict(features_test)) - 1\n",
    "  \n",
    "reg_r = reg.fit(features_train, labels_r_train)\n",
    "pred_r = np.exp(reg.predict(features_test)) - 1\n",
    "    \n",
    "pred = np.round(pred_c + pred_r)  \n",
    "\n",
    "print reg_c.best_estimator_\n",
    "print \" \"\n",
    "get_rmsle(pred, np.exp(labels_c_test) + np.exp(labels_r_test) - 2)"
   ]
  },
  {
   "cell_type": "code",
   "execution_count": 9,
   "metadata": {
    "collapsed": false
   },
   "outputs": [],
   "source": [
    "#test on test dataset\n",
    "df_test = engineer_data(test_data)\n",
    "\n",
    "features_train, labels_c_train, labels_r_train = process_data(df,features)\n",
    "test = df_test[features].values\n",
    "\n",
    "reg = RandomForestRegressor(n_estimators = 1000, max_features = 0.8, \n",
    "                            min_samples_split = 11, random_state = 111, n_jobs = -1)\n",
    "    \n",
    "reg_c = reg.fit(features_train, labels_c_train)\n",
    "pred_c = np.exp(reg.predict(test)) - 1\n",
    "  \n",
    "reg_r = reg.fit(features_train, labels_r_train)\n",
    "pred_r = np.exp(reg.predict(test)) - 1\n",
    "    \n",
    "df_test['count'] = np.round(pred_c+pred_r)\n",
    "\n",
    "#make csv\n",
    "final = df_test[['datetime','count']]\n",
    "final.to_csv('my_prediction.csv', index=False)"
   ]
  },
  {
   "cell_type": "code",
   "execution_count": null,
   "metadata": {
    "collapsed": true
   },
   "outputs": [],
   "source": []
  }
 ],
 "metadata": {
  "anaconda-cloud": {},
  "kernelspec": {
   "display_name": "Python [default]",
   "language": "python",
   "name": "python2"
  },
  "language_info": {
   "codemirror_mode": {
    "name": "ipython",
    "version": 2
   },
   "file_extension": ".py",
   "mimetype": "text/x-python",
   "name": "python",
   "nbconvert_exporter": "python",
   "pygments_lexer": "ipython2",
   "version": "2.7.12"
  }
 },
 "nbformat": 4,
 "nbformat_minor": 1
}
